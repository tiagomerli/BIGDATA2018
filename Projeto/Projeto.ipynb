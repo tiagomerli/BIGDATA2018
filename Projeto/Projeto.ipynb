{
 "cells": [
  {
   "cell_type": "markdown",
   "metadata": {},
   "source": [
    "Comparando a Acurácia dos Algoritmos de Regressão Logistica e KMeans"
   ]
  },
  {
   "cell_type": "code",
   "execution_count": 9,
   "metadata": {},
   "outputs": [],
   "source": [
    "\n",
    "import numpy as np\n",
    "import pandas as pd\n",
    "import seaborn as sb\n",
    "import matplotlib.pyplot as plt\n",
    "import sklearn\n",
    "\n",
    "from sklearn import tree\n",
    "from pandas import Series, DataFrame\n",
    "from pylab import rcParams\n",
    "from sklearn import preprocessing\n",
    "from sklearn.linear_model import LogisticRegression\n",
    "from sklearn.cross_validation import train_test_split\n",
    "from sklearn import metrics \n",
    "from sklearn.metrics import classification_report"
   ]
  },
  {
   "cell_type": "code",
   "execution_count": 16,
   "metadata": {},
   "outputs": [],
   "source": [
    "#carregando o dataset\n",
    "url = 'https://archive.ics.uci.edu/ml/machine-learning-databases/adult/adult.data'\n",
    "data = pd.read_csv(url)\n",
    "data.columns=['age','workclass','fnlwgt','education','educationNum','maritalStatus','occupation','relationship','race','sex','capitalGain',' capitalLoss','hoursPerWeek','nativeCountry', 'target']\n"
   ]
  },
  {
   "cell_type": "code",
   "execution_count": 17,
   "metadata": {},
   "outputs": [
    {
     "data": {
      "text/html": [
       "<div>\n",
       "<style scoped>\n",
       "    .dataframe tbody tr th:only-of-type {\n",
       "        vertical-align: middle;\n",
       "    }\n",
       "\n",
       "    .dataframe tbody tr th {\n",
       "        vertical-align: top;\n",
       "    }\n",
       "\n",
       "    .dataframe thead th {\n",
       "        text-align: right;\n",
       "    }\n",
       "</style>\n",
       "<table border=\"1\" class=\"dataframe\">\n",
       "  <thead>\n",
       "    <tr style=\"text-align: right;\">\n",
       "      <th></th>\n",
       "      <th>age</th>\n",
       "      <th>workclass</th>\n",
       "      <th>fnlwgt</th>\n",
       "      <th>education</th>\n",
       "      <th>educationNum</th>\n",
       "      <th>maritalStatus</th>\n",
       "      <th>occupation</th>\n",
       "      <th>relationship</th>\n",
       "      <th>race</th>\n",
       "      <th>sex</th>\n",
       "      <th>capitalGain</th>\n",
       "      <th>capitalLoss</th>\n",
       "      <th>hoursPerWeek</th>\n",
       "      <th>nativeCountry</th>\n",
       "      <th>target</th>\n",
       "    </tr>\n",
       "  </thead>\n",
       "  <tbody>\n",
       "    <tr>\n",
       "      <th>0</th>\n",
       "      <td>50</td>\n",
       "      <td>Self-emp-not-inc</td>\n",
       "      <td>83311</td>\n",
       "      <td>Bachelors</td>\n",
       "      <td>13</td>\n",
       "      <td>Married-civ-spouse</td>\n",
       "      <td>Exec-managerial</td>\n",
       "      <td>Husband</td>\n",
       "      <td>White</td>\n",
       "      <td>Male</td>\n",
       "      <td>0</td>\n",
       "      <td>0</td>\n",
       "      <td>13</td>\n",
       "      <td>United-States</td>\n",
       "      <td>&lt;=50K</td>\n",
       "    </tr>\n",
       "    <tr>\n",
       "      <th>1</th>\n",
       "      <td>38</td>\n",
       "      <td>Private</td>\n",
       "      <td>215646</td>\n",
       "      <td>HS-grad</td>\n",
       "      <td>9</td>\n",
       "      <td>Divorced</td>\n",
       "      <td>Handlers-cleaners</td>\n",
       "      <td>Not-in-family</td>\n",
       "      <td>White</td>\n",
       "      <td>Male</td>\n",
       "      <td>0</td>\n",
       "      <td>0</td>\n",
       "      <td>40</td>\n",
       "      <td>United-States</td>\n",
       "      <td>&lt;=50K</td>\n",
       "    </tr>\n",
       "    <tr>\n",
       "      <th>2</th>\n",
       "      <td>53</td>\n",
       "      <td>Private</td>\n",
       "      <td>234721</td>\n",
       "      <td>11th</td>\n",
       "      <td>7</td>\n",
       "      <td>Married-civ-spouse</td>\n",
       "      <td>Handlers-cleaners</td>\n",
       "      <td>Husband</td>\n",
       "      <td>Black</td>\n",
       "      <td>Male</td>\n",
       "      <td>0</td>\n",
       "      <td>0</td>\n",
       "      <td>40</td>\n",
       "      <td>United-States</td>\n",
       "      <td>&lt;=50K</td>\n",
       "    </tr>\n",
       "    <tr>\n",
       "      <th>3</th>\n",
       "      <td>28</td>\n",
       "      <td>Private</td>\n",
       "      <td>338409</td>\n",
       "      <td>Bachelors</td>\n",
       "      <td>13</td>\n",
       "      <td>Married-civ-spouse</td>\n",
       "      <td>Prof-specialty</td>\n",
       "      <td>Wife</td>\n",
       "      <td>Black</td>\n",
       "      <td>Female</td>\n",
       "      <td>0</td>\n",
       "      <td>0</td>\n",
       "      <td>40</td>\n",
       "      <td>Cuba</td>\n",
       "      <td>&lt;=50K</td>\n",
       "    </tr>\n",
       "    <tr>\n",
       "      <th>4</th>\n",
       "      <td>37</td>\n",
       "      <td>Private</td>\n",
       "      <td>284582</td>\n",
       "      <td>Masters</td>\n",
       "      <td>14</td>\n",
       "      <td>Married-civ-spouse</td>\n",
       "      <td>Exec-managerial</td>\n",
       "      <td>Wife</td>\n",
       "      <td>White</td>\n",
       "      <td>Female</td>\n",
       "      <td>0</td>\n",
       "      <td>0</td>\n",
       "      <td>40</td>\n",
       "      <td>United-States</td>\n",
       "      <td>&lt;=50K</td>\n",
       "    </tr>\n",
       "  </tbody>\n",
       "</table>\n",
       "</div>"
      ],
      "text/plain": [
       "   age          workclass  fnlwgt   education  educationNum  \\\n",
       "0   50   Self-emp-not-inc   83311   Bachelors            13   \n",
       "1   38            Private  215646     HS-grad             9   \n",
       "2   53            Private  234721        11th             7   \n",
       "3   28            Private  338409   Bachelors            13   \n",
       "4   37            Private  284582     Masters            14   \n",
       "\n",
       "         maritalStatus          occupation    relationship    race      sex  \\\n",
       "0   Married-civ-spouse     Exec-managerial         Husband   White     Male   \n",
       "1             Divorced   Handlers-cleaners   Not-in-family   White     Male   \n",
       "2   Married-civ-spouse   Handlers-cleaners         Husband   Black     Male   \n",
       "3   Married-civ-spouse      Prof-specialty            Wife   Black   Female   \n",
       "4   Married-civ-spouse     Exec-managerial            Wife   White   Female   \n",
       "\n",
       "   capitalGain   capitalLoss  hoursPerWeek   nativeCountry  target  \n",
       "0            0             0            13   United-States   <=50K  \n",
       "1            0             0            40   United-States   <=50K  \n",
       "2            0             0            40   United-States   <=50K  \n",
       "3            0             0            40            Cuba   <=50K  \n",
       "4            0             0            40   United-States   <=50K  "
      ]
     },
     "execution_count": 17,
     "metadata": {},
     "output_type": "execute_result"
    }
   ],
   "source": [
    "#verificando a estrutura do dataset carregado\n",
    "data.head()"
   ]
  },
  {
   "cell_type": "code",
   "execution_count": 18,
   "metadata": {},
   "outputs": [
    {
     "data": {
      "text/plain": [
       "<bound method NDFrame.describe of        age          workclass  fnlwgt      education  educationNum  \\\n",
       "0       50   Self-emp-not-inc   83311      Bachelors            13   \n",
       "1       38            Private  215646        HS-grad             9   \n",
       "2       53            Private  234721           11th             7   \n",
       "3       28            Private  338409      Bachelors            13   \n",
       "4       37            Private  284582        Masters            14   \n",
       "5       49            Private  160187            9th             5   \n",
       "6       52   Self-emp-not-inc  209642        HS-grad             9   \n",
       "7       31            Private   45781        Masters            14   \n",
       "8       42            Private  159449      Bachelors            13   \n",
       "9       37            Private  280464   Some-college            10   \n",
       "10      30          State-gov  141297      Bachelors            13   \n",
       "11      23            Private  122272      Bachelors            13   \n",
       "12      32            Private  205019     Assoc-acdm            12   \n",
       "13      40            Private  121772      Assoc-voc            11   \n",
       "14      34            Private  245487        7th-8th             4   \n",
       "15      25   Self-emp-not-inc  176756        HS-grad             9   \n",
       "16      32            Private  186824        HS-grad             9   \n",
       "17      38            Private   28887           11th             7   \n",
       "18      43   Self-emp-not-inc  292175        Masters            14   \n",
       "19      40            Private  193524      Doctorate            16   \n",
       "20      54            Private  302146        HS-grad             9   \n",
       "21      35        Federal-gov   76845            9th             5   \n",
       "22      43            Private  117037           11th             7   \n",
       "23      59            Private  109015        HS-grad             9   \n",
       "24      56          Local-gov  216851      Bachelors            13   \n",
       "25      19            Private  168294        HS-grad             9   \n",
       "26      54                  ?  180211   Some-college            10   \n",
       "27      39            Private  367260        HS-grad             9   \n",
       "28      49            Private  193366        HS-grad             9   \n",
       "29      23          Local-gov  190709     Assoc-acdm            12   \n",
       "...    ...                ...     ...            ...           ...   \n",
       "32530   30                  ?   33811      Bachelors            13   \n",
       "32531   34            Private  204461      Doctorate            16   \n",
       "32532   54            Private  337992      Bachelors            13   \n",
       "32533   37            Private  179137   Some-college            10   \n",
       "32534   22            Private  325033           12th             8   \n",
       "32535   34            Private  160216      Bachelors            13   \n",
       "32536   30            Private  345898        HS-grad             9   \n",
       "32537   38            Private  139180      Bachelors            13   \n",
       "32538   71                  ?  287372      Doctorate            16   \n",
       "32539   45          State-gov  252208        HS-grad             9   \n",
       "32540   41                  ?  202822        HS-grad             9   \n",
       "32541   72                  ?  129912        HS-grad             9   \n",
       "32542   45          Local-gov  119199     Assoc-acdm            12   \n",
       "32543   31            Private  199655        Masters            14   \n",
       "32544   39          Local-gov  111499     Assoc-acdm            12   \n",
       "32545   37            Private  198216     Assoc-acdm            12   \n",
       "32546   43            Private  260761        HS-grad             9   \n",
       "32547   65   Self-emp-not-inc   99359    Prof-school            15   \n",
       "32548   43          State-gov  255835   Some-college            10   \n",
       "32549   43   Self-emp-not-inc   27242   Some-college            10   \n",
       "32550   32            Private   34066           10th             6   \n",
       "32551   43            Private   84661      Assoc-voc            11   \n",
       "32552   32            Private  116138        Masters            14   \n",
       "32553   53            Private  321865        Masters            14   \n",
       "32554   22            Private  310152   Some-college            10   \n",
       "32555   27            Private  257302     Assoc-acdm            12   \n",
       "32556   40            Private  154374        HS-grad             9   \n",
       "32557   58            Private  151910        HS-grad             9   \n",
       "32558   22            Private  201490        HS-grad             9   \n",
       "32559   52       Self-emp-inc  287927        HS-grad             9   \n",
       "\n",
       "                maritalStatus          occupation     relationship  \\\n",
       "0          Married-civ-spouse     Exec-managerial          Husband   \n",
       "1                    Divorced   Handlers-cleaners    Not-in-family   \n",
       "2          Married-civ-spouse   Handlers-cleaners          Husband   \n",
       "3          Married-civ-spouse      Prof-specialty             Wife   \n",
       "4          Married-civ-spouse     Exec-managerial             Wife   \n",
       "5       Married-spouse-absent       Other-service    Not-in-family   \n",
       "6          Married-civ-spouse     Exec-managerial          Husband   \n",
       "7               Never-married      Prof-specialty    Not-in-family   \n",
       "8          Married-civ-spouse     Exec-managerial          Husband   \n",
       "9          Married-civ-spouse     Exec-managerial          Husband   \n",
       "10         Married-civ-spouse      Prof-specialty          Husband   \n",
       "11              Never-married        Adm-clerical        Own-child   \n",
       "12              Never-married               Sales    Not-in-family   \n",
       "13         Married-civ-spouse        Craft-repair          Husband   \n",
       "14         Married-civ-spouse    Transport-moving          Husband   \n",
       "15              Never-married     Farming-fishing        Own-child   \n",
       "16              Never-married   Machine-op-inspct        Unmarried   \n",
       "17         Married-civ-spouse               Sales          Husband   \n",
       "18                   Divorced     Exec-managerial        Unmarried   \n",
       "19         Married-civ-spouse      Prof-specialty          Husband   \n",
       "20                  Separated       Other-service        Unmarried   \n",
       "21         Married-civ-spouse     Farming-fishing          Husband   \n",
       "22         Married-civ-spouse    Transport-moving          Husband   \n",
       "23                   Divorced        Tech-support        Unmarried   \n",
       "24         Married-civ-spouse        Tech-support          Husband   \n",
       "25              Never-married        Craft-repair        Own-child   \n",
       "26         Married-civ-spouse                   ?          Husband   \n",
       "27                   Divorced     Exec-managerial    Not-in-family   \n",
       "28         Married-civ-spouse        Craft-repair          Husband   \n",
       "29              Never-married     Protective-serv    Not-in-family   \n",
       "...                       ...                 ...              ...   \n",
       "32530           Never-married                   ?    Not-in-family   \n",
       "32531      Married-civ-spouse      Prof-specialty          Husband   \n",
       "32532      Married-civ-spouse     Exec-managerial          Husband   \n",
       "32533                Divorced        Adm-clerical        Unmarried   \n",
       "32534           Never-married     Protective-serv        Own-child   \n",
       "32535           Never-married     Exec-managerial    Not-in-family   \n",
       "32536           Never-married        Craft-repair    Not-in-family   \n",
       "32537                Divorced      Prof-specialty        Unmarried   \n",
       "32538      Married-civ-spouse                   ?          Husband   \n",
       "32539               Separated        Adm-clerical        Own-child   \n",
       "32540               Separated                   ?    Not-in-family   \n",
       "32541      Married-civ-spouse                   ?          Husband   \n",
       "32542                Divorced      Prof-specialty        Unmarried   \n",
       "32543                Divorced       Other-service    Not-in-family   \n",
       "32544      Married-civ-spouse        Adm-clerical             Wife   \n",
       "32545                Divorced        Tech-support    Not-in-family   \n",
       "32546      Married-civ-spouse   Machine-op-inspct          Husband   \n",
       "32547           Never-married      Prof-specialty    Not-in-family   \n",
       "32548                Divorced        Adm-clerical   Other-relative   \n",
       "32549      Married-civ-spouse        Craft-repair          Husband   \n",
       "32550      Married-civ-spouse   Handlers-cleaners          Husband   \n",
       "32551      Married-civ-spouse               Sales          Husband   \n",
       "32552           Never-married        Tech-support    Not-in-family   \n",
       "32553      Married-civ-spouse     Exec-managerial          Husband   \n",
       "32554           Never-married     Protective-serv    Not-in-family   \n",
       "32555      Married-civ-spouse        Tech-support             Wife   \n",
       "32556      Married-civ-spouse   Machine-op-inspct          Husband   \n",
       "32557                 Widowed        Adm-clerical        Unmarried   \n",
       "32558           Never-married        Adm-clerical        Own-child   \n",
       "32559      Married-civ-spouse     Exec-managerial             Wife   \n",
       "\n",
       "                      race      sex  capitalGain   capitalLoss  hoursPerWeek  \\\n",
       "0                    White     Male            0             0            13   \n",
       "1                    White     Male            0             0            40   \n",
       "2                    Black     Male            0             0            40   \n",
       "3                    Black   Female            0             0            40   \n",
       "4                    White   Female            0             0            40   \n",
       "5                    Black   Female            0             0            16   \n",
       "6                    White     Male            0             0            45   \n",
       "7                    White   Female        14084             0            50   \n",
       "8                    White     Male         5178             0            40   \n",
       "9                    Black     Male            0             0            80   \n",
       "10      Asian-Pac-Islander     Male            0             0            40   \n",
       "11                   White   Female            0             0            30   \n",
       "12                   Black     Male            0             0            50   \n",
       "13      Asian-Pac-Islander     Male            0             0            40   \n",
       "14      Amer-Indian-Eskimo     Male            0             0            45   \n",
       "15                   White     Male            0             0            35   \n",
       "16                   White     Male            0             0            40   \n",
       "17                   White     Male            0             0            50   \n",
       "18                   White   Female            0             0            45   \n",
       "19                   White     Male            0             0            60   \n",
       "20                   Black   Female            0             0            20   \n",
       "21                   Black     Male            0             0            40   \n",
       "22                   White     Male            0          2042            40   \n",
       "23                   White   Female            0             0            40   \n",
       "24                   White     Male            0             0            40   \n",
       "25                   White     Male            0             0            40   \n",
       "26      Asian-Pac-Islander     Male            0             0            60   \n",
       "27                   White     Male            0             0            80   \n",
       "28                   White     Male            0             0            40   \n",
       "29                   White     Male            0             0            52   \n",
       "...                    ...      ...          ...           ...           ...   \n",
       "32530   Asian-Pac-Islander   Female            0             0            99   \n",
       "32531                White     Male            0             0            60   \n",
       "32532   Asian-Pac-Islander     Male            0             0            50   \n",
       "32533                White   Female            0             0            39   \n",
       "32534                Black     Male            0             0            35   \n",
       "32535                White   Female            0             0            55   \n",
       "32536                Black     Male            0             0            46   \n",
       "32537                Black   Female        15020             0            45   \n",
       "32538                White     Male            0             0            10   \n",
       "32539                White   Female            0             0            40   \n",
       "32540                Black   Female            0             0            32   \n",
       "32541                White     Male            0             0            25   \n",
       "32542                White   Female            0             0            48   \n",
       "32543                Other   Female            0             0            30   \n",
       "32544                White   Female            0             0            20   \n",
       "32545                White   Female            0             0            40   \n",
       "32546                White     Male            0             0            40   \n",
       "32547                White     Male         1086             0            60   \n",
       "32548                White   Female            0             0            40   \n",
       "32549                White     Male            0             0            50   \n",
       "32550   Amer-Indian-Eskimo     Male            0             0            40   \n",
       "32551                White     Male            0             0            45   \n",
       "32552   Asian-Pac-Islander     Male            0             0            11   \n",
       "32553                White     Male            0             0            40   \n",
       "32554                White     Male            0             0            40   \n",
       "32555                White   Female            0             0            38   \n",
       "32556                White     Male            0             0            40   \n",
       "32557                White   Female            0             0            40   \n",
       "32558                White     Male            0             0            20   \n",
       "32559                White   Female        15024             0            40   \n",
       "\n",
       "        nativeCountry  target  \n",
       "0       United-States   <=50K  \n",
       "1       United-States   <=50K  \n",
       "2       United-States   <=50K  \n",
       "3                Cuba   <=50K  \n",
       "4       United-States   <=50K  \n",
       "5             Jamaica   <=50K  \n",
       "6       United-States    >50K  \n",
       "7       United-States    >50K  \n",
       "8       United-States    >50K  \n",
       "9       United-States    >50K  \n",
       "10              India    >50K  \n",
       "11      United-States   <=50K  \n",
       "12      United-States   <=50K  \n",
       "13                  ?    >50K  \n",
       "14             Mexico   <=50K  \n",
       "15      United-States   <=50K  \n",
       "16      United-States   <=50K  \n",
       "17      United-States   <=50K  \n",
       "18      United-States    >50K  \n",
       "19      United-States    >50K  \n",
       "20      United-States   <=50K  \n",
       "21      United-States   <=50K  \n",
       "22      United-States   <=50K  \n",
       "23      United-States   <=50K  \n",
       "24      United-States    >50K  \n",
       "25      United-States   <=50K  \n",
       "26              South    >50K  \n",
       "27      United-States   <=50K  \n",
       "28      United-States   <=50K  \n",
       "29      United-States   <=50K  \n",
       "...               ...     ...  \n",
       "32530   United-States   <=50K  \n",
       "32531   United-States    >50K  \n",
       "32532           Japan    >50K  \n",
       "32533   United-States   <=50K  \n",
       "32534   United-States   <=50K  \n",
       "32535   United-States    >50K  \n",
       "32536   United-States   <=50K  \n",
       "32537   United-States    >50K  \n",
       "32538   United-States    >50K  \n",
       "32539   United-States   <=50K  \n",
       "32540   United-States   <=50K  \n",
       "32541   United-States   <=50K  \n",
       "32542   United-States   <=50K  \n",
       "32543   United-States   <=50K  \n",
       "32544   United-States    >50K  \n",
       "32545   United-States   <=50K  \n",
       "32546          Mexico   <=50K  \n",
       "32547   United-States   <=50K  \n",
       "32548   United-States   <=50K  \n",
       "32549   United-States   <=50K  \n",
       "32550   United-States   <=50K  \n",
       "32551   United-States   <=50K  \n",
       "32552          Taiwan   <=50K  \n",
       "32553   United-States    >50K  \n",
       "32554   United-States   <=50K  \n",
       "32555   United-States   <=50K  \n",
       "32556   United-States    >50K  \n",
       "32557   United-States   <=50K  \n",
       "32558   United-States   <=50K  \n",
       "32559   United-States    >50K  \n",
       "\n",
       "[32560 rows x 15 columns]>"
      ]
     },
     "execution_count": 18,
     "metadata": {},
     "output_type": "execute_result"
    }
   ],
   "source": [
    "#verificando o domínio e dados carregado\n",
    "data.describe"
   ]
  },
  {
   "cell_type": "code",
   "execution_count": 9,
   "metadata": {},
   "outputs": [
    {
     "data": {
      "text/plain": [
       "<matplotlib.axes._subplots.AxesSubplot at 0xc29aa58>"
      ]
     },
     "execution_count": 9,
     "metadata": {},
     "output_type": "execute_result"
    },
    {
     "data": {
      "image/png": "[encoded data removed]",
      "text/plain": [
       "<matplotlib.figure.Figure at 0xc4d04e0>"
      ]
     },
     "metadata": {},
     "output_type": "display_data"
    }
   ],
   "source": [
    "#verificando a quantidade de classe e a proporcao dos dados\n",
    "sb.countplot(x='target',data=data, palette='hls')\n",
    "#a quantidade de instancias classificados como <=50k e quase tres vezes maiores que a quantidade de instancias classificadas\n",
    "#como >=50k"
   ]
  },
  {
   "cell_type": "code",
   "execution_count": 10,
   "metadata": {},
   "outputs": [
    {
     "data": {
      "text/plain": [
       "<matplotlib.axes._subplots.AxesSubplot at 0xc515ef0>"
      ]
     },
     "execution_count": 10,
     "metadata": {},
     "output_type": "execute_result"
    },
    {
     "data": {
      "image/png": "[encoded data removed]",
      "text/plain": [
       "<matplotlib.figure.Figure at 0xc120940>"
      ]
     },
     "metadata": {},
     "output_type": "display_data"
    }
   ],
   "source": [
    "#verificando a quantidade de homens/mulheres e a proporcao dos dados\n",
    "sb.countplot(x='sex',data=data, palette='hls')\n",
    "#a quantidade de instancias classificados como Male (Homens) sao quase duas vezes maiores que a quantidade de instancias classificadas\n",
    "#como Female (Mulheres)"
   ]
  },
  {
   "cell_type": "code",
   "execution_count": 11,
   "metadata": {},
   "outputs": [
    {
     "data": {
      "text/plain": [
       "age              0\n",
       "workclass        0\n",
       "fnlwgt           0\n",
       "education        0\n",
       "educationNum     0\n",
       "maritalStatus    0\n",
       "occupation       0\n",
       "relationship     0\n",
       "race             0\n",
       "sex              0\n",
       "capitalGain      0\n",
       " capitalLoss     0\n",
       "hoursPerWeek     0\n",
       "nativeCountry    0\n",
       "target           0\n",
       "dtype: int64"
      ]
     },
     "execution_count": 11,
     "metadata": {},
     "output_type": "execute_result"
    }
   ],
   "source": [
    "#verificando se existem dados nulos\n",
    "data.isnull().sum()"
   ]
  },
  {
   "cell_type": "code",
   "execution_count": 12,
   "metadata": {},
   "outputs": [
    {
     "name": "stdout",
     "output_type": "stream",
     "text": [
      "<class 'pandas.core.frame.DataFrame'>\n",
      "RangeIndex: 32560 entries, 0 to 32559\n",
      "Data columns (total 15 columns):\n",
      "age              32560 non-null int64\n",
      "workclass        32560 non-null object\n",
      "fnlwgt           32560 non-null int64\n",
      "education        32560 non-null object\n",
      "educationNum     32560 non-null int64\n",
      "maritalStatus    32560 non-null object\n",
      "occupation       32560 non-null object\n",
      "relationship     32560 non-null object\n",
      "race             32560 non-null object\n",
      "sex              32560 non-null object\n",
      "capitalGain      32560 non-null int64\n",
      " capitalLoss     32560 non-null int64\n",
      "hoursPerWeek     32560 non-null int64\n",
      "nativeCountry    32560 non-null object\n",
      "target           32560 non-null object\n",
      "dtypes: int64(6), object(9)\n",
      "memory usage: 3.7+ MB\n"
     ]
    }
   ],
   "source": [
    "#verificando os tipos de dados\n",
    "data.info()"
   ]
  },
  {
   "cell_type": "code",
   "execution_count": 13,
   "metadata": {},
   "outputs": [
    {
     "name": "stdout",
     "output_type": "stream",
     "text": [
      "existem dados nao numericos\n"
     ]
    }
   ],
   "source": [
    "print(\"existem dados nao numericos\")"
   ]
  },
  {
   "cell_type": "code",
   "execution_count": 171,
   "metadata": {},
   "outputs": [
    {
     "data": {
      "text/plain": [
       "<matplotlib.axes._subplots.AxesSubplot at 0x1d501215b70>"
      ]
     },
     "execution_count": 171,
     "metadata": {},
     "output_type": "execute_result"
    },
    {
     "data": {
      "image/png": "[encoded data removed]",
      "text/plain": [
       "<matplotlib.figure.Figure at 0x1d50119e0f0>"
      ]
     },
     "metadata": {},
     "output_type": "display_data"
    }
   ],
   "source": [
    "#verificando a relacao entre entre idade e a classe\n",
    "sb.boxplot(x='age', y='target', data=data, palette='hls')"
   ]
  },
  {
   "cell_type": "code",
   "execution_count": 20,
   "metadata": {},
   "outputs": [
    {
     "data": {
      "text/plain": [
       "<matplotlib.axes._subplots.AxesSubplot at 0xd27ac88>"
      ]
     },
     "execution_count": 20,
     "metadata": {},
     "output_type": "execute_result"
    },
    {
     "data": {
      "image/png": "[encoded data removed]",
      "text/plain": [
       "<matplotlib.figure.Figure at 0xd228da0>"
      ]
     },
     "metadata": {},
     "output_type": "display_data"
    }
   ],
   "source": [
    "#verificando a relacao entre entre sexo e a classe\n",
    "sb.boxplot(x='age', y='sex', data=data, palette='hls')"
   ]
  },
  {
   "cell_type": "code",
   "execution_count": 21,
   "metadata": {},
   "outputs": [
    {
     "data": {
      "text/plain": [
       "<matplotlib.axes._subplots.AxesSubplot at 0xd6ed7b8>"
      ]
     },
     "execution_count": 21,
     "metadata": {},
     "output_type": "execute_result"
    },
    {
     "data": {
      "image/png": "[encoded data removed]",
      "text/plain": [
       "<matplotlib.figure.Figure at 0xd73fe48>"
      ]
     },
     "metadata": {},
     "output_type": "display_data"
    }
   ],
   "source": [
    "#verificando a relacao entre entre educationNum e a classe\n",
    "sb.boxplot(x='educationNum', y='target', data=data, palette='hls')"
   ]
  },
  {
   "cell_type": "code",
   "execution_count": 22,
   "metadata": {},
   "outputs": [
    {
     "data": {
      "text/plain": [
       "<bound method NDFrame.head of        age  educationNum  capitalGain   capitalLoss  hoursPerWeek\n",
       "0       50            13            0             0            13\n",
       "1       38             9            0             0            40\n",
       "2       53             7            0             0            40\n",
       "3       28            13            0             0            40\n",
       "4       37            14            0             0            40\n",
       "5       49             5            0             0            16\n",
       "6       52             9            0             0            45\n",
       "7       31            14        14084             0            50\n",
       "8       42            13         5178             0            40\n",
       "9       37            10            0             0            80\n",
       "10      30            13            0             0            40\n",
       "11      23            13            0             0            30\n",
       "12      32            12            0             0            50\n",
       "13      40            11            0             0            40\n",
       "14      34             4            0             0            45\n",
       "15      25             9            0             0            35\n",
       "16      32             9            0             0            40\n",
       "17      38             7            0             0            50\n",
       "18      43            14            0             0            45\n",
       "19      40            16            0             0            60\n",
       "20      54             9            0             0            20\n",
       "21      35             5            0             0            40\n",
       "22      43             7            0          2042            40\n",
       "23      59             9            0             0            40\n",
       "24      56            13            0             0            40\n",
       "25      19             9            0             0            40\n",
       "26      54            10            0             0            60\n",
       "27      39             9            0             0            80\n",
       "28      49             9            0             0            40\n",
       "29      23            12            0             0            52\n",
       "...    ...           ...          ...           ...           ...\n",
       "32530   30            13            0             0            99\n",
       "32531   34            16            0             0            60\n",
       "32532   54            13            0             0            50\n",
       "32533   37            10            0             0            39\n",
       "32534   22             8            0             0            35\n",
       "32535   34            13            0             0            55\n",
       "32536   30             9            0             0            46\n",
       "32537   38            13        15020             0            45\n",
       "32538   71            16            0             0            10\n",
       "32539   45             9            0             0            40\n",
       "32540   41             9            0             0            32\n",
       "32541   72             9            0             0            25\n",
       "32542   45            12            0             0            48\n",
       "32543   31            14            0             0            30\n",
       "32544   39            12            0             0            20\n",
       "32545   37            12            0             0            40\n",
       "32546   43             9            0             0            40\n",
       "32547   65            15         1086             0            60\n",
       "32548   43            10            0             0            40\n",
       "32549   43            10            0             0            50\n",
       "32550   32             6            0             0            40\n",
       "32551   43            11            0             0            45\n",
       "32552   32            14            0             0            11\n",
       "32553   53            14            0             0            40\n",
       "32554   22            10            0             0            40\n",
       "32555   27            12            0             0            38\n",
       "32556   40             9            0             0            40\n",
       "32557   58             9            0             0            40\n",
       "32558   22             9            0             0            20\n",
       "32559   52             9        15024             0            40\n",
       "\n",
       "[32560 rows x 5 columns]>"
      ]
     },
     "execution_count": 22,
     "metadata": {},
     "output_type": "execute_result"
    }
   ],
   "source": [
    "#Como os atributos sex  e target estao definidos utilizando caracter vamos converter para numerico\n",
    "v_sex              = pd.get_dummies(data['sex'],drop_first=True)\n",
    "v_target           = pd.get_dummies(data['target'],drop_first=True)\n",
    "\n",
    "#removendo as colunas que nao serao utilizadas no modelo de classificacao\n",
    "#tais atributos foram desconsiderados em virtude de que poderia levar o modelo a inferir que \n",
    "#a raca e um fator determinante para a renda. De acordo com o problema apresentado tal atributo nao\n",
    "#tem implicacao direto podendo tornar o algoritmo \"racista\"\n",
    "data.drop(['workclass','fnlwgt','education','maritalStatus','occupation','relationship','race','sex', 'nativeCountry','target'],axis=1,inplace=True)\n",
    "data.head\n"
   ]
  },
  {
   "cell_type": "code",
   "execution_count": 23,
   "metadata": {},
   "outputs": [
    {
     "data": {
      "text/html": [
       "<div>\n",
       "<style scoped>\n",
       "    .dataframe tbody tr th:only-of-type {\n",
       "        vertical-align: middle;\n",
       "    }\n",
       "\n",
       "    .dataframe tbody tr th {\n",
       "        vertical-align: top;\n",
       "    }\n",
       "\n",
       "    .dataframe thead th {\n",
       "        text-align: right;\n",
       "    }\n",
       "</style>\n",
       "<table border=\"1\" class=\"dataframe\">\n",
       "  <thead>\n",
       "    <tr style=\"text-align: right;\">\n",
       "      <th></th>\n",
       "      <th>age</th>\n",
       "      <th>educationNum</th>\n",
       "      <th>capitalGain</th>\n",
       "      <th>capitalLoss</th>\n",
       "      <th>hoursPerWeek</th>\n",
       "      <th>Male</th>\n",
       "      <th>&gt;50K</th>\n",
       "    </tr>\n",
       "  </thead>\n",
       "  <tbody>\n",
       "    <tr>\n",
       "      <th>0</th>\n",
       "      <td>50</td>\n",
       "      <td>13</td>\n",
       "      <td>0</td>\n",
       "      <td>0</td>\n",
       "      <td>13</td>\n",
       "      <td>1</td>\n",
       "      <td>0</td>\n",
       "    </tr>\n",
       "    <tr>\n",
       "      <th>1</th>\n",
       "      <td>38</td>\n",
       "      <td>9</td>\n",
       "      <td>0</td>\n",
       "      <td>0</td>\n",
       "      <td>40</td>\n",
       "      <td>1</td>\n",
       "      <td>0</td>\n",
       "    </tr>\n",
       "    <tr>\n",
       "      <th>2</th>\n",
       "      <td>53</td>\n",
       "      <td>7</td>\n",
       "      <td>0</td>\n",
       "      <td>0</td>\n",
       "      <td>40</td>\n",
       "      <td>1</td>\n",
       "      <td>0</td>\n",
       "    </tr>\n",
       "    <tr>\n",
       "      <th>3</th>\n",
       "      <td>28</td>\n",
       "      <td>13</td>\n",
       "      <td>0</td>\n",
       "      <td>0</td>\n",
       "      <td>40</td>\n",
       "      <td>0</td>\n",
       "      <td>0</td>\n",
       "    </tr>\n",
       "    <tr>\n",
       "      <th>4</th>\n",
       "      <td>37</td>\n",
       "      <td>14</td>\n",
       "      <td>0</td>\n",
       "      <td>0</td>\n",
       "      <td>40</td>\n",
       "      <td>0</td>\n",
       "      <td>0</td>\n",
       "    </tr>\n",
       "  </tbody>\n",
       "</table>\n",
       "</div>"
      ],
      "text/plain": [
       "   age  educationNum  capitalGain   capitalLoss  hoursPerWeek   Male   >50K\n",
       "0   50            13            0             0            13      1      0\n",
       "1   38             9            0             0            40      1      0\n",
       "2   53             7            0             0            40      1      0\n",
       "3   28            13            0             0            40      0      0\n",
       "4   37            14            0             0            40      0      0"
      ]
     },
     "execution_count": 23,
     "metadata": {},
     "output_type": "execute_result"
    }
   ],
   "source": [
    "#atribuindo as colunas sex e target alteradas anteriormente\n",
    "data_dmy = pd.concat([data,v_sex,v_target],axis=1)\n",
    "data_dmy.head()"
   ]
  },
  {
   "cell_type": "code",
   "execution_count": 24,
   "metadata": {},
   "outputs": [],
   "source": [
    "#definindo os atributos age,educationNum,capitalGain,capitalLoss,hoursPerWeek,Sex como atributos de entrada\n",
    "x = data_dmy.iloc[:,[0,1,2,3,4,5]].values\n",
    "#definindo o target como saida do modelo\n",
    "y = data_dmy.iloc[:,6].values"
   ]
  },
  {
   "cell_type": "code",
   "execution_count": 25,
   "metadata": {},
   "outputs": [],
   "source": [
    "#separando 70% dos dados para treinamento e 30% para teste\n",
    "x_train, x_test, y_train, y_test = train_test_split(x, y, test_size = .3, random_state=25)\n"
   ]
  },
  {
   "cell_type": "code",
   "execution_count": 26,
   "metadata": {},
   "outputs": [
    {
     "data": {
      "text/plain": [
       "LogisticRegression(C=1.0, class_weight=None, dual=False, fit_intercept=True,\n",
       "          intercept_scaling=1, max_iter=100, multi_class='ovr', n_jobs=1,\n",
       "          penalty='l2', random_state=None, solver='liblinear', tol=0.0001,\n",
       "          verbose=0, warm_start=False)"
      ]
     },
     "execution_count": 26,
     "metadata": {},
     "output_type": "execute_result"
    }
   ],
   "source": [
    "#treinamento\n",
    "reg_log = LogisticRegression()\n",
    "\n",
    "reg_log.fit(x_train,y_train)"
   ]
  },
  {
   "cell_type": "code",
   "execution_count": 27,
   "metadata": {},
   "outputs": [
    {
     "data": {
      "text/plain": [
       "array([[3.37238003e-02, 2.83490710e-01, 2.99768268e-04, 6.92399484e-04,\n",
       "        2.55410873e-02, 1.06428050e+00]])"
      ]
     },
     "execution_count": 27,
     "metadata": {},
     "output_type": "execute_result"
    }
   ],
   "source": [
    "reg_log.coef_"
   ]
  },
  {
   "cell_type": "code",
   "execution_count": 28,
   "metadata": {},
   "outputs": [
    {
     "data": {
      "text/plain": [
       "array([-7.60775413])"
      ]
     },
     "execution_count": 28,
     "metadata": {},
     "output_type": "execute_result"
    }
   ],
   "source": [
    "reg_log.intercept_"
   ]
  },
  {
   "cell_type": "code",
   "execution_count": 29,
   "metadata": {},
   "outputs": [
    {
     "data": {
      "text/plain": [
       "array([0, 0, 0, ..., 0, 0, 1], dtype=uint8)"
      ]
     },
     "execution_count": 29,
     "metadata": {},
     "output_type": "execute_result"
    }
   ],
   "source": [
    "#teste do modelo\n",
    "classifield = reg_log.predict(x_test)\n",
    "classifield"
   ]
  },
  {
   "cell_type": "code",
   "execution_count": 30,
   "metadata": {},
   "outputs": [
    {
     "name": "stdout",
     "output_type": "stream",
     "text": [
      "acuracia: com regressao logistica\n"
     ]
    },
    {
     "data": {
      "text/plain": [
       "82.1969696969697"
      ]
     },
     "execution_count": 30,
     "metadata": {},
     "output_type": "execute_result"
    }
   ],
   "source": [
    "from sklearn.metrics import accuracy_score\n",
    "#verificando a acuracia do modelo proposto\n",
    "print ('acuracia: com regressao logistica')\n",
    "accuracy_score(y_test, classifield) * 100"
   ]
  },
  {
   "cell_type": "code",
   "execution_count": 31,
   "metadata": {},
   "outputs": [
    {
     "name": "stdout",
     "output_type": "stream",
     "text": [
      "             precision    recall  f1-score   support\n",
      "\n",
      "          0       0.83      0.95      0.89      7394\n",
      "          1       0.74      0.41      0.53      2374\n",
      "\n",
      "avg / total       0.81      0.82      0.80      9768\n",
      "\n"
     ]
    }
   ],
   "source": [
    "#verificando \n",
    "print(classification_report(y_test, classifield))"
   ]
  },
  {
   "cell_type": "code",
   "execution_count": 32,
   "metadata": {},
   "outputs": [
    {
     "name": "stdout",
     "output_type": "stream",
     "text": [
      "aparentemente devido ao desbalanceamento do conjunto de treino o modelo ficou com tendencia para a classe 0 quando utilizado regressao logistica\n"
     ]
    }
   ],
   "source": [
    "print ('aparentemente devido ao desbalanceamento do conjunto de treino o modelo ficou com tendencia para a classe 0 quando utilizado regressao logistica')"
   ]
  },
  {
   "cell_type": "code",
   "execution_count": 33,
   "metadata": {},
   "outputs": [
    {
     "name": "stdout",
     "output_type": "stream",
     "text": [
      "Testando com KMN....\n"
     ]
    },
    {
     "data": {
      "text/plain": [
       "KNeighborsClassifier(algorithm='auto', leaf_size=30, metric='minkowski',\n",
       "           metric_params=None, n_jobs=1, n_neighbors=5, p=2,\n",
       "           weights='uniform')"
      ]
     },
     "execution_count": 33,
     "metadata": {},
     "output_type": "execute_result"
    }
   ],
   "source": [
    "print('Testando com KMN....')\n",
    "from sklearn.neighbors import KNeighborsClassifier\n",
    "neigh = KNeighborsClassifier(n_neighbors=5)\n",
    "neigh.fit(x_train, y_train)"
   ]
  },
  {
   "cell_type": "code",
   "execution_count": 34,
   "metadata": {},
   "outputs": [],
   "source": [
    "y_pred = neigh.predict(x_test)"
   ]
  },
  {
   "cell_type": "code",
   "execution_count": 35,
   "metadata": {},
   "outputs": [
    {
     "name": "stdout",
     "output_type": "stream",
     "text": [
      "acuracia com kmn\n"
     ]
    },
    {
     "data": {
      "text/plain": [
       "82.64742014742015"
      ]
     },
     "execution_count": 35,
     "metadata": {},
     "output_type": "execute_result"
    }
   ],
   "source": [
    "from sklearn.metrics import accuracy_score\n",
    "#verificando a acuracia do modelo proposto\n",
    "print ('acuracia com kmn')\n",
    "accuracy_score(y_test, y_pred) * 100"
   ]
  },
  {
   "cell_type": "code",
   "execution_count": 36,
   "metadata": {},
   "outputs": [
    {
     "name": "stdout",
     "output_type": "stream",
     "text": [
      "             precision    recall  f1-score   support\n",
      "\n",
      "          0       0.87      0.91      0.89      7394\n",
      "          1       0.66      0.58      0.62      2374\n",
      "\n",
      "avg / total       0.82      0.83      0.82      9768\n",
      "\n"
     ]
    }
   ],
   "source": [
    "\n",
    "#verificando \n",
    "print(classification_report(y_test, y_pred))"
   ]
  },
  {
   "cell_type": "code",
   "execution_count": 37,
   "metadata": {},
   "outputs": [
    {
     "name": "stdout",
     "output_type": "stream",
     "text": [
      "Quando comparado a acurácia, os dois modelos (regressão logística e kmn) tiveram desempenho semelhante, porem o kmn foi 0,2% melhor.\n"
     ]
    }
   ],
   "source": [
    "print('Quando comparado a acurácia, os dois modelos (regressão logística e kmn) tiveram desempenho semelhante, porem o kmn foi 0,2% melhor.')"
   ]
  },
  {
   "cell_type": "code",
   "execution_count": 38,
   "metadata": {},
   "outputs": [
    {
     "name": "stdout",
     "output_type": "stream",
     "text": [
      "A média de precisão foi de 81% para regressão logística e 83% para KMN\n"
     ]
    }
   ],
   "source": [
    "print('A média de precisão foi de 81% para regressão logística e 83% para KMN')"
   ]
  },
  {
   "cell_type": "code",
   "execution_count": 39,
   "metadata": {},
   "outputs": [
    {
     "name": "stdout",
     "output_type": "stream",
     "text": [
      "Considerando o recall, podemos dizer que o modelo com KMN foi melhor pois tem uma média de 83% enquanto na regressão logística temos uma média de 82%. Isso porque o KMN é menos sensível ao desbalanceamento do conjunto de treinamento.\n",
      "\n",
      "Comparando o f1-score temos que na média o KMN foi 1% melhor\n"
     ]
    }
   ],
   "source": [
    "print('Considerando o recall, podemos dizer que o modelo com KMN foi melhor pois tem uma média de 83% enquanto na regressão logística temos uma média de 82%. Isso porque o KMN é menos sensível ao desbalanceamento do conjunto de treinamento.\\n')\n",
    "print('Comparando o f1-score temos que na média o KMN foi 1% melhor')"
   ]
  },
  {
   "cell_type": "code",
   "execution_count": 40,
   "metadata": {},
   "outputs": [
    {
     "name": "stdout",
     "output_type": "stream",
     "text": [
      "Assim, com os atributos utilizados e conjunto de treinamento para este problema é melhor utilizar o KMN\n"
     ]
    }
   ],
   "source": [
    "print('Assim, com os atributos utilizados e conjunto de treinamento para este problema é melhor utilizar o KMN')"
   ]
  },
  {
   "cell_type": "code",
   "execution_count": null,
   "metadata": {},
   "outputs": [],
   "source": []
  }
 ],
 "metadata": {
  "kernelspec": {
   "display_name": "Python 3",
   "language": "python",
   "name": "python3"
  },
  "language_info": {
   "codemirror_mode": {
    "name": "ipython",
    "version": 3
   },
   "file_extension": ".py",
   "mimetype": "text/x-python",
   "name": "python",
   "nbconvert_exporter": "python",
   "pygments_lexer": "ipython3",
   "version": "3.6.4"
  }
 },
 "nbformat": 4,
 "nbformat_minor": 2
}
